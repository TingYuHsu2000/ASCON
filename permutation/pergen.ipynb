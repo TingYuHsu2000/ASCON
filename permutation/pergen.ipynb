{
 "cells": [
  {
   "cell_type": "code",
   "execution_count": 2,
   "metadata": {},
   "outputs": [
    {
     "name": "stdout",
     "output_type": "stream",
     "text": [
      "S_out:%h [357541662736510220499816455331394, 555694905469320471424635318401851, 455409873069201567304100553431326, 250348404506072348464358073259253, 126271191958379157338205757683777]\n"
     ]
    }
   ],
   "source": [
    "class Permutation:\n",
    "    def __init__(self):\n",
    "        self.S = [\n",
    "            0x8040201008040200,  # 64'd9241399655273594880\n",
    "            0x00A04020100A0401,  # 64'd45400375717294337\n",
    "            0xE7DAF6B48E7DAF38,  # 64'd16688268966856064344\n",
    "            0x33DC56DC20D8DC16,  # 64'd3724962908607778966\n",
    "            0x4C3DDBEE004DBA47   # 64'd5511705892194216375\n",
    "        ]\n",
    "        self.round = 6\n",
    "        self.Cr = [\n",
    "            0xF0, 0xE1, 0xD2, 0xC3, 0xB4, 0xA5, 0x96, 0x87, 0x78, 0x69, 0x5A, 0x4B\n",
    "        ]\n",
    "        self.const_table = [\n",
    "            0x4, 0xB, 0x1F, 0x14, 0x1A, 0x15, 0x9, 0x2, 0x1B, 0x5, 0x8, 0x12,\n",
    "            0x1D, 0x3, 0x6, 0x1C, 0x1E, 0x13, 0x7, 0xE, 0x0, 0xD, 0x11, 0x18,\n",
    "            0x10, 0xC, 0x1, 0x19, 0x16, 0xA, 0xF, 0x17\n",
    "        ]\n",
    "\n",
    "    def substitution_layer(self, x0, x1, x2, x3, x4):\n",
    "        x0_ps, x1_ps, x2_ps, x3_ps, x4_ps = 0, 0, 0, 0, 0\n",
    "        for i in range(64):\n",
    "            idx = ((x0 >> i) & 1) << 4 | ((x1 >> i) & 1) << 3 | ((x2 >> i) & 1) << 2 | ((x3 >> i) & 1) << 1 | ((x4 >> i) & 1)\n",
    "            val = self.const_table[idx]\n",
    "            x0_ps |= ((val >> 4) & 1) << i\n",
    "            x1_ps |= ((val >> 3) & 1) << i\n",
    "            x2_ps |= ((val >> 2) & 1) << i\n",
    "            x3_ps |= ((val >> 1) & 1) << i\n",
    "            x4_ps |= (val & 1) << i\n",
    "        return x0_ps, x1_ps, x2_ps, x3_ps, x4_ps\n",
    "\n",
    "    def linear_diffusion_layer(self, x):\n",
    "        return x ^ (x >> 19) ^ (x >> 28) ^ (x << (64 - 19)) ^ (x << (64 - 28))\n",
    "\n",
    "    def permute(self):\n",
    "        x0, x1, x2, x3, x4 = self.S\n",
    "        for counter in range(self.round):\n",
    "            # Addition of Constants\n",
    "            if self.round == 12:\n",
    "                x2_pc = x2 ^ self.Cr[counter]\n",
    "            elif self.round == 8:\n",
    "                x2_pc = x2 ^ self.Cr[counter + 4]\n",
    "            elif self.round == 6:\n",
    "                x2_pc = x2 ^ self.Cr[counter + 6]\n",
    "            else:\n",
    "                x2_pc = x2\n",
    "\n",
    "            # Substitution Layer\n",
    "            x0_ps, x1_ps, x2_ps, x3_ps, x4_ps = self.substitution_layer(x0, x1, x2_pc, x3, x4)\n",
    "\n",
    "            # Linear Diffusion Layer\n",
    "            x0 = self.linear_diffusion_layer(x0_ps)\n",
    "            x1 = self.linear_diffusion_layer(x1_ps)\n",
    "            x2 = self.linear_diffusion_layer(x2_ps)\n",
    "            x3 = self.linear_diffusion_layer(x3_ps)\n",
    "            x4 = self.linear_diffusion_layer(x4_ps)\n",
    "\n",
    "        return [x0, x1, x2, x3, x4]\n",
    "\n",
    "if __name__ == \"__main__\":\n",
    "    perm = Permutation()\n",
    "    result = perm.permute()\n",
    "    print(\"S_out:%h\", result)\n"
   ]
  }
 ],
 "metadata": {
  "kernelspec": {
   "display_name": "base",
   "language": "python",
   "name": "python3"
  },
  "language_info": {
   "codemirror_mode": {
    "name": "ipython",
    "version": 3
   },
   "file_extension": ".py",
   "mimetype": "text/x-python",
   "name": "python",
   "nbconvert_exporter": "python",
   "pygments_lexer": "ipython3",
   "version": "3.7.6"
  }
 },
 "nbformat": 4,
 "nbformat_minor": 2
}
