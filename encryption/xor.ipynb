{
 "cells": [
  {
   "cell_type": "code",
   "execution_count": 5,
   "metadata": {},
   "outputs": [
    {
     "name": "stdout",
     "output_type": "stream",
     "text": [
      "This program calculates the XOR of a list of hexadecimal numbers.\n",
      "Enter the hexadecimal numbers separated by spaces (e.g., A3 1F 4B):\n",
      "XOR result: 9AB1D1EC41A8C8CC4BCFB09892565DA59C12BD1B0D6D0C75DA9E81E57761AC1A60BD1F45DCBEA6A5\n"
     ]
    }
   ],
   "source": [
    "def calculate_hex_xor():\n",
    "    print(\"This program calculates the XOR of a list of hexadecimal numbers.\")\n",
    "    print(\"Enter the hexadecimal numbers separated by spaces (e.g., A3 1F 4B):\")\n",
    "\n",
    "    # 接收使用者輸入\n",
    "    hex_numbers = input(\"Enter hexadecimal numbers: \").split()\n",
    "    \n",
    "    #hex_numbers = 90136B5604240AE5 BF7977FA96AE8D19\n",
    "    \n",
    "    try:\n",
    "        # 將輸入的數字轉換為十進位數字\n",
    "        decimal_numbers = [int(num, 16) for num in hex_numbers]\n",
    "    except ValueError:\n",
    "        print(\"Invalid input! Please ensure all inputs are valid hexadecimal numbers.\")\n",
    "        return\n",
    "\n",
    "    # 計算 XOR\n",
    "    xor_result = 0\n",
    "    for number in decimal_numbers:\n",
    "        xor_result ^= number\n",
    "\n",
    "    # 輸出結果（轉為大寫的 16 進位格式）\n",
    "    print(f\"XOR result: {xor_result:X}\")\n",
    "\n",
    "if __name__ == \"__main__\":\n",
    "    calculate_hex_xor()"
   ]
  }
 ],
 "metadata": {
  "kernelspec": {
   "display_name": "base",
   "language": "python",
   "name": "python3"
  },
  "language_info": {
   "codemirror_mode": {
    "name": "ipython",
    "version": 3
   },
   "file_extension": ".py",
   "mimetype": "text/x-python",
   "name": "python",
   "nbconvert_exporter": "python",
   "pygments_lexer": "ipython3",
   "version": "3.7.6"
  }
 },
 "nbformat": 4,
 "nbformat_minor": 2
}
